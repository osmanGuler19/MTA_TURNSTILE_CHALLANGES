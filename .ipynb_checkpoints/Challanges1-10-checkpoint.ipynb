{
 "cells": [
  {
   "cell_type": "code",
   "execution_count": 2,
   "id": "e09a6edc",
   "metadata": {},
   "outputs": [],
   "source": [
    "import pandas as pd"
   ]
  },
  {
   "cell_type": "markdown",
   "id": "96d7a096",
   "metadata": {},
   "source": [
    "# Challenge 1"
   ]
  },
  {
   "cell_type": "code",
   "execution_count": 3,
   "id": "089e1544",
   "metadata": {},
   "outputs": [],
   "source": [
    "#Deleting spaces in txt files. Because there were spaces at the end of lines."
   ]
  },
  {
   "cell_type": "code",
   "execution_count": 4,
   "id": "ff37375d",
   "metadata": {},
   "outputs": [],
   "source": [
    "with open('Saturday, October 02, 2021.txt', 'r') as f:\n",
    "    txt = f.read().replace(' ', '')\n",
    "\n",
    "with open('Saturday, October 02, 2021.txt', 'w') as f:\n",
    "    f.write(txt)"
   ]
  },
  {
   "cell_type": "code",
   "execution_count": 5,
   "id": "947f6695",
   "metadata": {},
   "outputs": [],
   "source": [
    "with open('Saturday, October 09, 2021.txt', 'r') as f:\n",
    "    txt = f.read().replace(' ', '')\n",
    "\n",
    "with open('Saturday, October 09, 2021.txt', 'w') as f:\n",
    "    f.write(txt)"
   ]
  },
  {
   "cell_type": "code",
   "execution_count": 6,
   "id": "70f14be3",
   "metadata": {},
   "outputs": [],
   "source": [
    "#Reading txt files and converting to csv files"
   ]
  },
  {
   "cell_type": "code",
   "execution_count": 7,
   "id": "cfaf661d",
   "metadata": {},
   "outputs": [],
   "source": [
    "read_file = pd.read_csv(r'Saturday, October 09, 2021.txt')\n",
    "read_file.to_csv (r'Saturday, October 09, 2021.csv', index=None)"
   ]
  },
  {
   "cell_type": "code",
   "execution_count": 8,
   "id": "23a4552e",
   "metadata": {},
   "outputs": [],
   "source": [
    "read_file = pd.read_csv(r'Saturday, October 02, 2021.txt')\n",
    "read_file.to_csv (r'Saturday, October 02, 2021.csv', index=None)"
   ]
  },
  {
   "cell_type": "code",
   "execution_count": 9,
   "id": "3327f66c",
   "metadata": {},
   "outputs": [],
   "source": [
    "import glob"
   ]
  },
  {
   "cell_type": "code",
   "execution_count": 10,
   "id": "de9e8217",
   "metadata": {},
   "outputs": [
    {
     "data": {
      "text/html": [
       "<div>\n",
       "<style scoped>\n",
       "    .dataframe tbody tr th:only-of-type {\n",
       "        vertical-align: middle;\n",
       "    }\n",
       "\n",
       "    .dataframe tbody tr th {\n",
       "        vertical-align: top;\n",
       "    }\n",
       "\n",
       "    .dataframe thead th {\n",
       "        text-align: right;\n",
       "    }\n",
       "</style>\n",
       "<table border=\"1\" class=\"dataframe\">\n",
       "  <thead>\n",
       "    <tr style=\"text-align: right;\">\n",
       "      <th></th>\n",
       "      <th>C/A</th>\n",
       "      <th>UNIT</th>\n",
       "      <th>SCP</th>\n",
       "      <th>STATION</th>\n",
       "      <th>LINENAME</th>\n",
       "      <th>DIVISION</th>\n",
       "      <th>DATE</th>\n",
       "      <th>TIME</th>\n",
       "      <th>DESC</th>\n",
       "      <th>ENTRIES</th>\n",
       "      <th>EXITS</th>\n",
       "    </tr>\n",
       "  </thead>\n",
       "  <tbody>\n",
       "    <tr>\n",
       "      <th>0</th>\n",
       "      <td>A002</td>\n",
       "      <td>R051</td>\n",
       "      <td>02-00-00</td>\n",
       "      <td>59ST</td>\n",
       "      <td>NQR456W</td>\n",
       "      <td>BMT</td>\n",
       "      <td>09/25/2021</td>\n",
       "      <td>00:00:00</td>\n",
       "      <td>REGULAR</td>\n",
       "      <td>7641078</td>\n",
       "      <td>2615082</td>\n",
       "    </tr>\n",
       "    <tr>\n",
       "      <th>1</th>\n",
       "      <td>A002</td>\n",
       "      <td>R051</td>\n",
       "      <td>02-00-00</td>\n",
       "      <td>59ST</td>\n",
       "      <td>NQR456W</td>\n",
       "      <td>BMT</td>\n",
       "      <td>09/25/2021</td>\n",
       "      <td>04:00:00</td>\n",
       "      <td>REGULAR</td>\n",
       "      <td>7641091</td>\n",
       "      <td>2615083</td>\n",
       "    </tr>\n",
       "    <tr>\n",
       "      <th>2</th>\n",
       "      <td>A002</td>\n",
       "      <td>R051</td>\n",
       "      <td>02-00-00</td>\n",
       "      <td>59ST</td>\n",
       "      <td>NQR456W</td>\n",
       "      <td>BMT</td>\n",
       "      <td>09/25/2021</td>\n",
       "      <td>08:00:00</td>\n",
       "      <td>REGULAR</td>\n",
       "      <td>7641100</td>\n",
       "      <td>2615107</td>\n",
       "    </tr>\n",
       "    <tr>\n",
       "      <th>3</th>\n",
       "      <td>A002</td>\n",
       "      <td>R051</td>\n",
       "      <td>02-00-00</td>\n",
       "      <td>59ST</td>\n",
       "      <td>NQR456W</td>\n",
       "      <td>BMT</td>\n",
       "      <td>09/25/2021</td>\n",
       "      <td>12:00:00</td>\n",
       "      <td>REGULAR</td>\n",
       "      <td>7641135</td>\n",
       "      <td>2615156</td>\n",
       "    </tr>\n",
       "    <tr>\n",
       "      <th>4</th>\n",
       "      <td>A002</td>\n",
       "      <td>R051</td>\n",
       "      <td>02-00-00</td>\n",
       "      <td>59ST</td>\n",
       "      <td>NQR456W</td>\n",
       "      <td>BMT</td>\n",
       "      <td>09/25/2021</td>\n",
       "      <td>16:00:00</td>\n",
       "      <td>REGULAR</td>\n",
       "      <td>7641265</td>\n",
       "      <td>2615188</td>\n",
       "    </tr>\n",
       "  </tbody>\n",
       "</table>\n",
       "</div>"
      ],
      "text/plain": [
       "    C/A  UNIT       SCP STATION LINENAME DIVISION        DATE      TIME  \\\n",
       "0  A002  R051  02-00-00    59ST  NQR456W      BMT  09/25/2021  00:00:00   \n",
       "1  A002  R051  02-00-00    59ST  NQR456W      BMT  09/25/2021  04:00:00   \n",
       "2  A002  R051  02-00-00    59ST  NQR456W      BMT  09/25/2021  08:00:00   \n",
       "3  A002  R051  02-00-00    59ST  NQR456W      BMT  09/25/2021  12:00:00   \n",
       "4  A002  R051  02-00-00    59ST  NQR456W      BMT  09/25/2021  16:00:00   \n",
       "\n",
       "      DESC  ENTRIES    EXITS  \n",
       "0  REGULAR  7641078  2615082  \n",
       "1  REGULAR  7641091  2615083  \n",
       "2  REGULAR  7641100  2615107  \n",
       "3  REGULAR  7641135  2615156  \n",
       "4  REGULAR  7641265  2615188  "
      ]
     },
     "execution_count": 10,
     "metadata": {},
     "output_type": "execute_result"
    }
   ],
   "source": [
    "df = pd.concat(map(pd.read_csv, glob.glob('Saturday, October*.csv')))\n",
    "df.head()"
   ]
  },
  {
   "cell_type": "code",
   "execution_count": 11,
   "id": "04b49b61",
   "metadata": {},
   "outputs": [
    {
     "data": {
      "text/plain": [
       "4619758"
      ]
     },
     "execution_count": 11,
     "metadata": {},
     "output_type": "execute_result"
    }
   ],
   "source": [
    "df.size"
   ]
  },
  {
   "cell_type": "code",
   "execution_count": 12,
   "id": "3af55ea5",
   "metadata": {},
   "outputs": [
    {
     "data": {
      "text/plain": [
       "<bound method DataFrame.info of           C/A  UNIT       SCP        STATION LINENAME DIVISION        DATE  \\\n",
       "0        A002  R051  02-00-00           59ST  NQR456W      BMT  09/25/2021   \n",
       "1        A002  R051  02-00-00           59ST  NQR456W      BMT  09/25/2021   \n",
       "2        A002  R051  02-00-00           59ST  NQR456W      BMT  09/25/2021   \n",
       "3        A002  R051  02-00-00           59ST  NQR456W      BMT  09/25/2021   \n",
       "4        A002  R051  02-00-00           59ST  NQR456W      BMT  09/25/2021   \n",
       "...       ...   ...       ...            ...      ...      ...         ...   \n",
       "209762  TRAM2  R469  00-05-01  RIT-ROOSEVELT        R      RIT  10/08/2021   \n",
       "209763  TRAM2  R469  00-05-01  RIT-ROOSEVELT        R      RIT  10/08/2021   \n",
       "209764  TRAM2  R469  00-05-01  RIT-ROOSEVELT        R      RIT  10/08/2021   \n",
       "209765  TRAM2  R469  00-05-01  RIT-ROOSEVELT        R      RIT  10/08/2021   \n",
       "209766  TRAM2  R469  00-05-01  RIT-ROOSEVELT        R      RIT  10/08/2021   \n",
       "\n",
       "            TIME     DESC  ENTRIES    EXITS  \n",
       "0       00:00:00  REGULAR  7641078  2615082  \n",
       "1       04:00:00  REGULAR  7641091  2615083  \n",
       "2       08:00:00  REGULAR  7641100  2615107  \n",
       "3       12:00:00  REGULAR  7641135  2615156  \n",
       "4       16:00:00  REGULAR  7641265  2615188  \n",
       "...          ...      ...      ...      ...  \n",
       "209762  05:00:00  REGULAR     5554      653  \n",
       "209763  09:00:00  REGULAR     5554      653  \n",
       "209764  13:00:00  REGULAR     5554      653  \n",
       "209765  17:00:00  REGULAR     5554      653  \n",
       "209766  21:00:00  REGULAR     5554      653  \n",
       "\n",
       "[419978 rows x 11 columns]>"
      ]
     },
     "execution_count": 12,
     "metadata": {},
     "output_type": "execute_result"
    }
   ],
   "source": [
    "df.info"
   ]
  },
  {
   "cell_type": "markdown",
   "id": "23e9d6c4",
   "metadata": {},
   "source": [
    "# Challenge 2"
   ]
  },
  {
   "cell_type": "code",
   "execution_count": 13,
   "id": "8bfdb630",
   "metadata": {},
   "outputs": [],
   "source": [
    "df['DateAndTime'] = df['DATE'].str.cat(df['TIME'],sep=\" \")\n",
    "df[\"DATE_TIME\"] = pd.to_datetime(df['DateAndTime'], format=\"%m/%d/%Y %H:%M:%S\")\n",
    "df = df.drop('DateAndTime', 1)"
   ]
  },
  {
   "cell_type": "code",
   "execution_count": 29,
   "id": "f110dfc4",
   "metadata": {},
   "outputs": [],
   "source": [
    "##Added date_time column and saved concatanated file\n",
    "import os\n",
    "\n",
    "if not os.path.exists('./concatanated.csv'):\n",
    "    df.to_csv('concatanated.csv', index=False)"
   ]
  },
  {
   "cell_type": "markdown",
   "id": "80bae3e2",
   "metadata": {},
   "source": [
    "# Challenge 3"
   ]
  },
  {
   "cell_type": "code",
   "execution_count": null,
   "id": "7d6c9ceb",
   "metadata": {},
   "outputs": [],
   "source": [
    "def get_hour(t):\n",
    "   h, m, s = map(int, t.split(':'))\n",
    "   return h "
   ]
  },
  {
   "cell_type": "code",
   "execution_count": null,
   "id": "d6a20b4c",
   "metadata": {},
   "outputs": [],
   "source": [
    "# Firstly we need to find n for every n hour problem\n",
    "## We can take first and second row for measuring n\n",
    "first_rows_time = df.iloc[0]['TIME']\n",
    "first_rows_hour = get_hour(first_rows_time)\n",
    "\n",
    "second_rows_time = df.iloc[1]['TIME']\n",
    "second_rows_hour = get_hour(second_rows_time)\n",
    "\n",
    "print('n is equals to',second_rows_hour-first_rows_hour)\n"
   ]
  },
  {
   "cell_type": "code",
   "execution_count": null,
   "id": "afdfe396",
   "metadata": {},
   "outputs": [],
   "source": [
    "#So we have four hour time perioads\n",
    "#Let's find daily entries now\n",
    "daily_entries = df.groupby(pd.Grouper(key='DATE_TIME', axis=0, \n",
    "                      freq='D', sort=True)).sum()\n",
    "\n",
    "#print(type(daily_entries))\n",
    "##So we have dataframe again.\n",
    "\n",
    "val= daily_entries['ENTRIES'].sum()  \n",
    "print('TOTAL ENTRIES COUNT OF OUR DATA = ',val)"
   ]
  },
  {
   "cell_type": "code",
   "execution_count": null,
   "id": "69a66f99",
   "metadata": {},
   "outputs": [],
   "source": [
    "daily_entries_foreach_turnstile = df.groupby(['UNIT', 'DATE']).sum()\n",
    "\n",
    "with pd.option_context('display.max_rows', None, 'display.max_columns', None):  # more options can be specified also\n",
    "    print(daily_entries_foreach_turnstile)\n",
    "\n"
   ]
  },
  {
   "cell_type": "markdown",
   "id": "fbec187d",
   "metadata": {},
   "source": [
    "# Challenge 4"
   ]
  },
  {
   "cell_type": "code",
   "execution_count": null,
   "id": "6206dd47",
   "metadata": {},
   "outputs": [],
   "source": [
    "%matplotlib inline\n",
    "import matplotlib.pyplot as plt\n",
    "df['UNIT'] = df['UNIT'].astype(str)\n",
    "unit_163 = df[df['UNIT'] == 'R163']\n",
    "grouped = unit_163.groupby('DATE').sum()\n",
    "\n",
    "#As you can see our plot is same with our data\n",
    "print(grouped)\n",
    "plt.figure(figsize=(20,8))\n",
    "grouped['ENTRIES'].plot(kind='bar')\n",
    "plt.yscale('log')\n",
    "plt.title('Daily Entries for Unit R163')"
   ]
  },
  {
   "cell_type": "markdown",
   "id": "4b1ab81b",
   "metadata": {},
   "source": [
    "# Challange 5"
   ]
  },
  {
   "cell_type": "code",
   "execution_count": null,
   "id": "b0c9195e",
   "metadata": {},
   "outputs": [],
   "source": [
    "df.groupby(['C/A','UNIT','STATION','DATE']).sum()"
   ]
  },
  {
   "cell_type": "markdown",
   "id": "99fea02b",
   "metadata": {},
   "source": [
    "# Challange 6"
   ]
  },
  {
   "cell_type": "code",
   "execution_count": 20,
   "id": "adcc3108",
   "metadata": {},
   "outputs": [
    {
     "data": {
      "text/plain": [
       "C/A                  object\n",
       "UNIT                 object\n",
       "SCP                  object\n",
       "STATION              object\n",
       "LINENAME             object\n",
       "DIVISION             object\n",
       "DATE                 object\n",
       "TIME                 object\n",
       "DESC                 object\n",
       "ENTRIES               int64\n",
       "EXITS                 int64\n",
       "DATE_TIME    datetime64[ns]\n",
       "dtype: object"
      ]
     },
     "execution_count": 20,
     "metadata": {},
     "output_type": "execute_result"
    }
   ],
   "source": [
    "df.dtypes"
   ]
  },
  {
   "cell_type": "code",
   "execution_count": 23,
   "id": "db984446",
   "metadata": {},
   "outputs": [],
   "source": [
    "df['DATE'] = pd.to_datetime(df['DATE'])"
   ]
  },
  {
   "cell_type": "code",
   "execution_count": 24,
   "id": "d55127db",
   "metadata": {},
   "outputs": [
    {
     "data": {
      "text/plain": [
       "C/A                  object\n",
       "UNIT                 object\n",
       "SCP                  object\n",
       "STATION              object\n",
       "LINENAME             object\n",
       "DIVISION             object\n",
       "DATE         datetime64[ns]\n",
       "TIME                 object\n",
       "DESC                 object\n",
       "ENTRIES               int64\n",
       "EXITS                 int64\n",
       "DATE_TIME    datetime64[ns]\n",
       "dtype: object"
      ]
     },
     "execution_count": 24,
     "metadata": {},
     "output_type": "execute_result"
    }
   ],
   "source": [
    "df.dtypes"
   ]
  },
  {
   "cell_type": "code",
   "execution_count": 25,
   "id": "adacb718",
   "metadata": {},
   "outputs": [
    {
     "data": {
      "text/plain": [
       "0        2021-09-25\n",
       "1        2021-09-25\n",
       "2        2021-09-25\n",
       "3        2021-09-25\n",
       "4        2021-09-25\n",
       "            ...    \n",
       "209762   2021-10-08\n",
       "209763   2021-10-08\n",
       "209764   2021-10-08\n",
       "209765   2021-10-08\n",
       "209766   2021-10-08\n",
       "Name: DATE, Length: 419978, dtype: datetime64[ns]"
      ]
     },
     "execution_count": 25,
     "metadata": {},
     "output_type": "execute_result"
    }
   ],
   "source": [
    "df['DATE']\n",
    "#As you can see slashes are dashes now. We can understand that our datas in datetime type now."
   ]
  },
  {
   "cell_type": "code",
   "execution_count": 54,
   "id": "be2449fe",
   "metadata": {},
   "outputs": [
    {
     "data": {
      "text/html": [
       "<div>\n",
       "<style scoped>\n",
       "    .dataframe tbody tr th:only-of-type {\n",
       "        vertical-align: middle;\n",
       "    }\n",
       "\n",
       "    .dataframe tbody tr th {\n",
       "        vertical-align: top;\n",
       "    }\n",
       "\n",
       "    .dataframe thead th {\n",
       "        text-align: right;\n",
       "    }\n",
       "</style>\n",
       "<table border=\"1\" class=\"dataframe\">\n",
       "  <thead>\n",
       "    <tr style=\"text-align: right;\">\n",
       "      <th></th>\n",
       "      <th>DATE</th>\n",
       "      <th>STATION</th>\n",
       "      <th>UNIT</th>\n",
       "      <th>COUNTS</th>\n",
       "    </tr>\n",
       "  </thead>\n",
       "  <tbody>\n",
       "    <tr>\n",
       "      <th>6769</th>\n",
       "      <td>2021-10-08</td>\n",
       "      <td>WOODLAWN</td>\n",
       "      <td>R052</td>\n",
       "      <td>30</td>\n",
       "    </tr>\n",
       "    <tr>\n",
       "      <th>6770</th>\n",
       "      <td>2021-10-08</td>\n",
       "      <td>WORLDTRADECTR</td>\n",
       "      <td>R029</td>\n",
       "      <td>108</td>\n",
       "    </tr>\n",
       "    <tr>\n",
       "      <th>6771</th>\n",
       "      <td>2021-10-08</td>\n",
       "      <td>WTC-CORTLANDT</td>\n",
       "      <td>R305</td>\n",
       "      <td>210</td>\n",
       "    </tr>\n",
       "    <tr>\n",
       "      <th>6772</th>\n",
       "      <td>2021-10-08</td>\n",
       "      <td>YORKST</td>\n",
       "      <td>R301</td>\n",
       "      <td>18</td>\n",
       "    </tr>\n",
       "    <tr>\n",
       "      <th>6773</th>\n",
       "      <td>2021-10-08</td>\n",
       "      <td>ZEREGAAV</td>\n",
       "      <td>R326</td>\n",
       "      <td>36</td>\n",
       "    </tr>\n",
       "  </tbody>\n",
       "</table>\n",
       "</div>"
      ],
      "text/plain": [
       "           DATE        STATION  UNIT  COUNTS\n",
       "6769 2021-10-08       WOODLAWN  R052      30\n",
       "6770 2021-10-08  WORLDTRADECTR  R029     108\n",
       "6771 2021-10-08  WTC-CORTLANDT  R305     210\n",
       "6772 2021-10-08         YORKST  R301      18\n",
       "6773 2021-10-08       ZEREGAAV  R326      36"
      ]
     },
     "execution_count": 54,
     "metadata": {},
     "output_type": "execute_result"
    }
   ],
   "source": [
    "#df.groupby(['DATE','STATION'])[\"UNIT\"].value_counts()\n",
    "daily_index =df.set_index('DATE')\n",
    "#daily_index.groupby(['DATE','STATION'])[\"UNIT\"].value_counts().reset_index(name='COUNTS')\n",
    "\n",
    "\n",
    "daily_index = pd.DataFrame(daily_index.groupby(['DATE','STATION'])[\"UNIT\"].value_counts().reset_index(name='COUNTS'),index=None)\n",
    "daily_index.tail()"
   ]
  },
  {
   "cell_type": "markdown",
   "id": "dc47eba4",
   "metadata": {},
   "source": [
    "# Challange 7"
   ]
  },
  {
   "cell_type": "code",
   "execution_count": null,
   "id": "04808122",
   "metadata": {},
   "outputs": [],
   "source": []
  }
 ],
 "metadata": {
  "kernelspec": {
   "display_name": "Python 3",
   "language": "python",
   "name": "python3"
  },
  "language_info": {
   "codemirror_mode": {
    "name": "ipython",
    "version": 3
   },
   "file_extension": ".py",
   "mimetype": "text/x-python",
   "name": "python",
   "nbconvert_exporter": "python",
   "pygments_lexer": "ipython3",
   "version": "3.8.8"
  }
 },
 "nbformat": 4,
 "nbformat_minor": 5
}
